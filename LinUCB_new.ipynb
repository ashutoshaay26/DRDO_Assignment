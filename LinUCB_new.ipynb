{
 "cells": [
  {
   "cell_type": "markdown",
   "metadata": {},
   "source": [
    "## Implementation of Contexual Bandit algorithm: LinUCB with disjoint models.\n",
    "\n",
    "Author : [Ashutosh Kakadiya](https://ashutoshaay26.github.io/)"
   ]
  },
  {
   "cell_type": "code",
   "execution_count": null,
   "metadata": {},
   "outputs": [],
   "source": [
    "# Install relevant libraries\n",
    "!pip install numpy matplotlib pandas"
   ]
  },
  {
   "cell_type": "code",
   "execution_count": 30,
   "metadata": {},
   "outputs": [],
   "source": [
    "import numpy as np\n",
    "import matplotlib.pyplot as plt\n",
    "import pandas as pd"
   ]
  },
  {
   "cell_type": "markdown",
   "metadata": {},
   "source": [
    "## Problem Statement\n",
    "In this section we are going to the implement the polupar contexual algorithm \"LinUCB\". \n",
    "Paper link: [LinUCB](http://rob.schapire.net/papers/www10.pdf)\n",
    "\n",
    "In this paper, the authors focus on choosing which articles to put on the homepage of a site. Say, for example, they had 3 articles but only space for 1, they could use the LinUCB algorithm to find which of the articles is best. More interestingly, if they had some features about their users–say if they had clicked on a sports article in the past or if they had clicked on a politics article in the past–the algorithm can take that into account and find which articles are best for people given their past click behaviors.\n",
    "\n",
    "We will implement the simpler version of LinUCB which makes two assumptions: first, our observations are i.i.d. and second, the arms are independent(Parameters are not shared across the arms)."
   ]
  },
  {
   "cell_type": "markdown",
   "metadata": {},
   "source": [
    "### Reading the Data\n",
    "1st column represents the arm which were be shown to user. Values between (1,10)\n",
    "2nd column represents the reward either 0 or 1 for choosing that perticular arm.\n",
    "From 3rd onwards Features of arm and user combined."
   ]
  },
  {
   "cell_type": "code",
   "execution_count": 31,
   "metadata": {},
   "outputs": [],
   "source": [
    "filepath = \"D:/IIT Madras/RBC DSAI/DRDO/DRDO_Assignment-master/linucb_data.csv\"  # Replace this filepath with yours.\n",
    "data = np.genfromtxt(filepath,delimiter=' ')"
   ]
  },
  {
   "cell_type": "code",
   "execution_count": 32,
   "metadata": {},
   "outputs": [
    {
     "data": {
      "text/plain": [
       "array([[  2.,   0.,   5.,   0.,   0.,  37.,   6.,   0.,   0.,   0.,   0.,\n",
       "         25.,   0.,   0.,   7.,   1.,   0.,   0.,   0.,  13.,   2.,   0.,\n",
       "          0.,   8.,   0.,   0.,   0.,  15.,  29.,   1.,   1.,   0.,   0.,\n",
       "          0.,   0.,   1.,   0.,   0.,   1.,   0.,   0.,   0.,   0.,   0.,\n",
       "          3.,   0.,   0.,   0.,   0.,   0.,   0.,   0.,   0.,   0.,   0.,\n",
       "          4.,   0.,   0.,   0.,   0.,   0.,   0.,   0.,   5.,   2.,   7.,\n",
       "          0.,   0.,   0.,   0.,  11.,   0.,   5.,   0.,   0.,   0.,   0.,\n",
       "          0.,   0.,   3.,   2.,   0.,   0.,   0.,   0.,   1.,   2.,  47.,\n",
       "          0.,   0.,   1.,   0.,   0.,   0.,   1.,   3.,   0.,   0.,  17.,\n",
       "         30.,   4.,   0.],\n",
       "       [  8.,   0.,   1.,   3.,  36.,   0.,   0.,   0.,   0.,   0.,   0.,\n",
       "          0.,   0.,   1.,   0.,   0.,   0.,   0.,   0.,   0.,  14.,   0.,\n",
       "         23.,   0.,   0.,   3.,   0.,   3.,   0.,   0.,   0.,   0.,   1.,\n",
       "          0.,   0.,   0.,   0.,   0.,   0.,   0.,   0.,  29.,   0.,   0.,\n",
       "          2.,   1.,   2.,  35.,   5.,   0.,  11.,   0.,   6.,   3.,   0.,\n",
       "          0.,   2.,   2.,   0.,   0.,   0.,   0.,   0.,   0.,   1.,   0.,\n",
       "         53.,   0.,   0.,   0.,   3.,   0.,   0.,   0.,   0.,   0.,  27.,\n",
       "          0.,   0.,   0.,   5.,   0.,   0.,   1.,   0.,   1.,   0.,   0.,\n",
       "          0.,   6.,   0.,   0.,   0.,   0.,   3.,   0.,   1.,   5.,   1.,\n",
       "          0.,   0.,  10.],\n",
       "       [  5.,   0.,   3.,   0.,   0.,   0.,   0.,   0.,   0.,   0.,   0.,\n",
       "          0.,  10.,   0.,   0.,   0.,   0.,   0.,   5.,   5.,   0.,   0.,\n",
       "          8.,   7.,   0.,   0.,   0.,   0.,   0.,  14.,  39.,   0.,   2.,\n",
       "          1.,   0.,   0.,   0.,   4.,   0.,   0.,   0.,   0.,   0.,   0.,\n",
       "          0.,   0.,   0.,  21.,  47.,   0.,   0.,   0.,   6.,   3.,   2.,\n",
       "          2.,   0.,   3.,   0.,   0.,   0.,   0.,   0.,   0.,   4.,   0.,\n",
       "          0.,   0.,   0.,   0.,   0.,   0.,   0.,   0.,   0.,   2.,   6.,\n",
       "          0.,   0.,   0.,   0.,  53.,   7.,   0.,   0.,   0.,   0.,   0.,\n",
       "          7.,   0.,   2.,   0.,   0.,   0.,   0.,   0.,  23.,   0.,  11.,\n",
       "          3.,   0.,   0.],\n",
       "       [  4.,   0.,  77.,   0.,   0.,  13.,   0.,   0.,   0.,   0.,   0.,\n",
       "         32.,   0.,   2.,  19.,   0.,   0.,   0.,   0.,   0.,   0.,   0.,\n",
       "          0.,   0.,   0.,   1.,   0.,   0.,   0.,   0.,   0.,   0.,   0.,\n",
       "          0.,   0.,   0.,   6.,   0.,   1.,   9.,   0.,   0.,   0.,   0.,\n",
       "          0.,  13.,   3.,  12.,   0.,   2.,   0.,   3.,   3.,   0.,   0.,\n",
       "          0.,   0.,  37.,   0.,   0.,  11.,   9.,   0.,   0.,   0.,   2.,\n",
       "          0.,   7.,   0.,   0.,   0.,   0.,   0.,   0.,  13.,   0.,   0.,\n",
       "          1.,   0.,   0.,   2.,   7.,   4.,   0.,   0.,   0.,   0.,   0.,\n",
       "          0.,   0.,   0.,   0.,   0.,   5.,   0.,   0.,   0.,   2.,   4.,\n",
       "          0.,   0.,   0.]])"
      ]
     },
     "execution_count": 32,
     "metadata": {},
     "output_type": "execute_result"
    }
   ],
   "source": [
    "data.shape\n",
    "data[:4,:]  # Visualize the data."
   ]
  },
  {
   "cell_type": "code",
   "execution_count": 33,
   "metadata": {},
   "outputs": [],
   "source": [
    "# Main parameters for algorithm\n",
    "n_points = data.shape[0] # total data points\n",
    "n_arms = 10   # number of arms\n",
    "n_features = 100 # number of features\n"
   ]
  },
  {
   "cell_type": "code",
   "execution_count": 34,
   "metadata": {},
   "outputs": [],
   "source": [
    "context=data[:,2:]            # Context  Matrix (data), features starts from 3rd column.\n",
    "arms_data = data[:,0]\n",
    "#print(arms_data)\n",
    "reward_data = data[:,1]\n",
    "#context.shape\n",
    "theta=np.random.random( (n_arms,n_features) ) - 0.5      # real theta, what we will try to guess\n",
    "#theta.shape\n",
    "P=context.dot(theta.T)\n",
    "optimal=np.array(P.argmax(axis=1), dtype=int)  # Maximum value among all arms to select best one.\n",
    "\n",
    "#plt.title(\"Distribution of ideal arm choices\")\n",
    "#plt.hist(optimal,bins=range(0,n_arms));"
   ]
  },
  {
   "cell_type": "markdown",
   "metadata": {},
   "source": [
    "### Calculating variance(Upper confidence Bound for this algorithm)\n",
    "For more info refer LinUCB paper. Or treat it as black box and remember that it represents the uncertainity of related arms."
   ]
  },
  {
   "cell_type": "markdown",
   "metadata": {},
   "source": [
    "### Implementing Main Algorithm: LinUCB Algorithm with Disjoint Linear Models.\n"
   ]
  },
  {
   "cell_type": "code",
   "execution_count": 35,
   "metadata": {},
   "outputs": [],
   "source": [
    "\n",
    "choices = np.zeros(n_points)\n",
    "rewards = np.zeros(n_points)\n",
    "explore = np.zeros(n_points)\n",
    "norms   = np.zeros(n_points)\n",
    "\n",
    "b = np.zeros((n_arms,n_features))\n",
    "#b = np.zeros_like(theta)\n",
    "A  = np.zeros((n_arms,n_features,n_features))\n",
    "\n",
    "#print(temp.shape)\n",
    "#print( ba.shape) \n",
    "#print(th.shape)\n",
    "\n",
    "# Making Identity matrix for all new arms at initial times.\n",
    "for i in range(n_arms):\n",
    "    A[i] = np.identity(n_features)\n",
    "    \n",
    "theta_hat = np.zeros_like(theta) # Current best prediction\n",
    "p = np.zeros(n_arms)   # Mean + Confidence Interval for arms.\n",
    "alpha = 0.2 # constant to hold tight inequality.\n",
    "\n",
    "###### Implement this main part Starts here...##########\n",
    "for i in range(n_points):\n",
    "    current_context = context[i]  # current context vector for t=i\n",
    "    \n",
    "    for a in range(n_arms):\n",
    "        inv_A = np.linalg.inv(A[a])   # inverse of matrix A\n",
    "        theta_hat[a] = inv_A.dot(b[a])  # Calculating theta_hat\n",
    "        variance = current_context.dot(inv_A).dot(current_context) # For more info refer LinUCB paper. Or treat it as black box and remember that it represents the uncertainity of related arms.\n",
    "        a_upper_ci = alpha*np.sqrt(variance)  # Upper confidence interval\n",
    "        a_mean = theta_hat[a].dot(current_context)\n",
    "        p[a] = a_mean + a_upper_ci\n",
    "        \n",
    "    # Let's not be biased with tiebreaks, but add in some random noise\n",
    "    p= p + ( np.random.random(len(p)) * 0.000001)\n",
    "    choices[i] = p.argmax()   # choose the highest, line 11\n",
    "\n",
    "    # Update A and b (Incremental Fashion)\n",
    "    A[int(choices[i])] += np.outer(current_context,current_context)\n",
    "    if choices[i]==arms_data[i]: # IF the algo suggested the correct arm(article) then only we take account the reward in given dataset.\n",
    "        b[int(choices[i])] += reward_data[i]*current_context\n",
    "        \n",
    "###### Main Block Ends here ################"
   ]
  },
  {
   "cell_type": "code",
   "execution_count": 36,
   "metadata": {},
   "outputs": [
    {
     "name": "stdout",
     "output_type": "stream",
     "text": [
      "10000\n",
      "1039\n",
      "[   0.    0.    0. ...,  380.  380.  380.]\n"
     ]
    }
   ],
   "source": [
    "print(n_points)\n",
    "print(np.count_nonzero(reward_data)) # Calculating howmany times Users have clicked on the Article.\n",
    "#print(choices)\n",
    "#print(arms_data)\n",
    "cumsum_reward = np.cumsum(np.multiply(reward_data,(choices == arms_data))) #Cumulative sum of reward.\n",
    "print(cumsum_reward)\n"
   ]
  },
  {
   "cell_type": "markdown",
   "metadata": {},
   "source": [
    "### Ploting the Cumulative Reward.\n"
   ]
  },
  {
   "cell_type": "code",
   "execution_count": 37,
   "metadata": {},
   "outputs": [
    {
     "data": {
      "text/plain": [
       "<matplotlib.text.Text at 0x80a8b167b8>"
      ]
     },
     "execution_count": 37,
     "metadata": {},
     "output_type": "execute_result"
    },
    {
     "data": {
      "image/png": "[encoded data removed]",
      "text/plain": [
       "<matplotlib.figure.Figure at 0x80a974ee80>"
      ]
     },
     "metadata": {
      "needs_background": "light"
     },
     "output_type": "display_data"
    }
   ],
   "source": [
    "plt.figure(1,figsize=(10,5))\n",
    "plt.subplot(121)\n",
    "plt.plot(cumsum_reward);\n",
    "plt.xlabel(\"Data Points\")\n",
    "plt.ylabel(\"Cumulative Rewards\")\n",
    "plt.title(\"Cumulative sum of Rewards\")"
   ]
  },
  {
   "cell_type": "markdown",
   "metadata": {},
   "source": [
    "Here we can see that from the complete uncertainity,algorithm is improving to predict the best suggestion for given user. This is clearly shows that CTR(Click Through Rate) is increasing.\n",
    "\n",
    "#### Play with this algorithm: shuffle the data and run multiple time with different hyperparameter \"alpha\" and compare the cumulative rewards."
   ]
  },
  {
   "cell_type": "markdown",
   "metadata": {},
   "source": []
  }
 ],
 "metadata": {
  "kernelspec": {
   "display_name": "Python 3",
   "language": "python",
   "name": "python3"
  },
  "language_info": {
   "codemirror_mode": {
    "name": "ipython",
    "version": 3
   },
   "file_extension": ".py",
   "mimetype": "text/x-python",
   "name": "python",
   "nbconvert_exporter": "python",
   "pygments_lexer": "ipython3",
   "version": "3.6.0"
  }
 },
 "nbformat": 4,
 "nbformat_minor": 2
}
