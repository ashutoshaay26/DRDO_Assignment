{
 "cells": [
  {
   "cell_type": "code",
   "execution_count": null,
   "metadata": {},
   "outputs": [],
   "source": [
    "# Install relevant libraries\n",
    "!pip install numpy matplotlib pandas"
   ]
  },
  {
   "cell_type": "code",
   "execution_count": null,
   "metadata": {},
   "outputs": [],
   "source": [
    "import numpy as np\n",
    "import matplotlib.pyplot as plt\n",
    "import pandas as pd"
   ]
  },
  {
   "cell_type": "markdown",
   "metadata": {},
   "source": [
    "## Problem Statement\n",
    "In this section we are going to the implement the polupar contexual algorithm \"LinUCB\". \n",
    "Paper link: [LinUCB](http://rob.schapire.net/papers/www10.pdf)\n",
    "\n",
    "In this paper, the authors focus on choosing which articles to put on the homepage of a site. Say, for example, they had 3 articles but only space for 1, they could use the LinUCB algorithm to find which of the articles is best. More interestingly, if they had some features about their users–say if they had clicked on a sports article in the past or if they had clicked on a politics article in the past–the algorithm can take that into account and find which articles are best for people given their past click behaviors.\n",
    "\n",
    "We will implement the simpler version of LinUCB which makes two assumptions: first, our observations are i.i.d. and second, the arms are independent(Parameters are not shared across the arms)."
   ]
  },
  {
   "cell_type": "markdown",
   "metadata": {},
   "source": [
    "### Reading the Data\n",
    "1st column represents the arm which were be shown to user. Values between (1,10)\n",
    "2nd column represents the reward either 0 or 1 for choosing that perticular arm.\n",
    "From 3rd onwards Features of arm and user combined."
   ]
  },
  {
   "cell_type": "code",
   "execution_count": null,
   "metadata": {},
   "outputs": [],
   "source": [
    "filepath = \"/home/ashutosh/Desktop/linucb_data.csv\"  # Replace this filepath with yours.\n",
    "data = np.genfromtxt(filepath,delimiter=' ')"
   ]
  },
  {
   "cell_type": "code",
   "execution_count": null,
   "metadata": {},
   "outputs": [],
   "source": [
    "data.shape\n",
    "data[:4,:]  # Visualize the data."
   ]
  },
  {
   "cell_type": "code",
   "execution_count": null,
   "metadata": {},
   "outputs": [],
   "source": [
    "# Main parameters for algorithm\n",
    "n_points = data.shape[0] # total data points\n",
    "n_arms = 10   # number of arms\n",
    "n_features = 100 # number of features\n"
   ]
  },
  {
   "cell_type": "code",
   "execution_count": null,
   "metadata": {},
   "outputs": [],
   "source": [
    "context=data[:,2:]            # Context  Matrix (data), features starts from 3rd column.\n",
    "\n",
    "#context.shape\n",
    "theta=np.random.random( (n_arms,n_features) ) - 0.5      # real theta, what we will try to guess\n",
    "#theta.shape\n",
    "P=context.dot(theta.T)\n",
    "optimal=np.array(P.argmax(axis=1), dtype=int)  # Maximum value among all arms to select best one.\n",
    "\n",
    "#plt.title(\"Distribution of ideal arm choices\")\n",
    "#plt.hist(optimal,bins=range(0,n_arms));"
   ]
  },
  {
   "cell_type": "markdown",
   "metadata": {},
   "source": [
    "### Implementing Main Algorithm: LinUCB Algorithm with Disjoint Linear Models."
   ]
  },
  {
   "cell_type": "code",
   "execution_count": null,
   "metadata": {},
   "outputs": [],
   "source": [
    "using actual theta to figure out rewardeps = 0.2\n",
    "choices = np.zeros(n_points)\n",
    "rewards = np.zeros(n_points)\n",
    "explore = np.zeros(n_points)\n",
    "norms   = np.zeros(n_points)\n",
    "\n",
    "b = np.zeros((n_arms,n_features))\n",
    "#b = np.zeros_like(theta)\n",
    "A  = np.zeros((n_arms,n_features,n_features))\n",
    "\n",
    "#print(temp.shape)\n",
    "#print( ba.shape) \n",
    "#print(th.shape)\n",
    "\n",
    "# Making Identity matrix for all new arms at initial times.\n",
    "for i in range(n_arms):\n",
    "    A[i] = np.identity(n_features)\n",
    "    \n",
    "theta_hat = np.zeros_like(theta) # Current best prediction\n",
    "p = np.zeros(n_arms)   # Mean + Confidence Interval for arms.\n",
    "alpha = 0.2 # constant to hold tight inequality.\n",
    "\n",
    "for i in range(n_points):\n",
    "    current_context = context[i]  # current context vector for t=i\n",
    "    \n",
    "    for a in range(n_arms):\n",
    "        inv_A = np.linalg.inv(A[a])   # inverse of matrix A\n",
    "        theta_hat[a] = inv_A.dot(b[a])  # Calculating theta_hat\n",
    "        variance = current_context.dot(inv_A).dot(current_context)\n",
    "        a_upper_ci = alpha*np.sqrt(variance)  # Upper confidence interval\n",
    "        a_mean = theta_hat[a].dot(current_context)\n",
    "        p[a] = a_mean + a_upper_ci\n",
    "        \n",
    "    norms[i]       = np.linalg.norm(theta_hat - theta,'fro')    # diagnostic, are we converging ?\n",
    "        \n",
    "    # Let's not be biased with tiebreaks, but add in some random noise\n",
    "    p= p + ( np.random.random(len(p)) * 0.000001)\n",
    "    choices[i] = p.argmax()   # choose the highest, line 11\n",
    "    rewards[i] = theta[int(choices[i])].dot(current_context)    # Calculating reward for current context with selected arm choice[i]\n",
    "    \n",
    "    # Update A and b (Incremental Fashion)\n",
    "    A[int(choices[i])] += np.outer(current_context,current_context)\n",
    "    b[int(choices[i])] += rewards[i]*current_context"
   ]
  },
  {
   "cell_type": "markdown",
   "metadata": {},
   "source": [
    "### Ploting the Cumulative Regret and the norm of |true reward - estimated reward|"
   ]
  },
  {
   "cell_type": "code",
   "execution_count": null,
   "metadata": {},
   "outputs": [],
   "source": [
    "plt.figure(1,figsize=(10,5))\n",
    "plt.subplot(121)\n",
    "plt.plot(norms);\n",
    "plt.title(\"Frobenius norm of estimated theta vs actual\");\n",
    "\n",
    "regret=(P.max(axis=1) - rewards)\n",
    "plt.subplot(122)\n",
    "plt.plot(regret.cumsum())\n",
    "plt.title(\"Cumulative Regret\");"
   ]
  }
 ],
 "metadata": {
  "kernelspec": {
   "display_name": "Python 3",
   "language": "python",
   "name": "python3"
  },
  "language_info": {
   "codemirror_mode": {
    "name": "ipython",
    "version": 3
   },
   "file_extension": ".py",
   "mimetype": "text/x-python",
   "name": "python",
   "nbconvert_exporter": "python",
   "pygments_lexer": "ipython3",
   "version": "3.6.8"
  }
 },
 "nbformat": 4,
 "nbformat_minor": 2
}
